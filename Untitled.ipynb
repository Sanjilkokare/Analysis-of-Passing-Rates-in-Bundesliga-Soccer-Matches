{
 "cells": [
  {
   "cell_type": "code",
   "execution_count": 1,
   "id": "64b17308",
   "metadata": {},
   "outputs": [],
   "source": [
    "import pandas as pd\n",
    "import matplotlib.pyplot as plt\n",
    "import seaborn as sns\n",
    "from scipy.stats import ttest_ind # (T test - This is a test for the null hypothesis that 2 independent samples have \n",
    "                                  #           identical average (expected) values.\n",
    "                                  #            This test assumes that the populations have identical variances by default.)\n",
    "import statistics as stats\n",
    "import warnings\n",
    "warnings.filterwarnings(\"ignore\")\n",
    "from scipy.stats import mannwhitneyu \n"
   ]
  },
  {
   "cell_type": "code",
   "execution_count": 2,
   "id": "6292ac1b",
   "metadata": {},
   "outputs": [],
   "source": [
    "file = \"C:\\\\Users\\\\HP\\\\Desktop\\\\Untitled Folder 1\\\\passes.csv\"\n",
    "\n",
    "data = pd.read_csv(file,delimiter = \";\")"
   ]
  },
  {
   "cell_type": "code",
   "execution_count": 3,
   "id": "c6b936fc",
   "metadata": {},
   "outputs": [
    {
     "data": {
      "text/html": [
       "<div>\n",
       "<style scoped>\n",
       "    .dataframe tbody tr th:only-of-type {\n",
       "        vertical-align: middle;\n",
       "    }\n",
       "\n",
       "    .dataframe tbody tr th {\n",
       "        vertical-align: top;\n",
       "    }\n",
       "\n",
       "    .dataframe thead th {\n",
       "        text-align: right;\n",
       "    }\n",
       "</style>\n",
       "<table border=\"1\" class=\"dataframe\">\n",
       "  <thead>\n",
       "    <tr style=\"text-align: right;\">\n",
       "      <th></th>\n",
       "      <th>game_id</th>\n",
       "      <th>passing_quote</th>\n",
       "      <th>winner</th>\n",
       "    </tr>\n",
       "  </thead>\n",
       "  <tbody>\n",
       "    <tr>\n",
       "      <th>0</th>\n",
       "      <td>11</td>\n",
       "      <td>72.0</td>\n",
       "      <td>No</td>\n",
       "    </tr>\n",
       "    <tr>\n",
       "      <th>1</th>\n",
       "      <td>11</td>\n",
       "      <td>91.0</td>\n",
       "      <td>Yes</td>\n",
       "    </tr>\n",
       "    <tr>\n",
       "      <th>2</th>\n",
       "      <td>12</td>\n",
       "      <td>82.0</td>\n",
       "      <td>Yes</td>\n",
       "    </tr>\n",
       "    <tr>\n",
       "      <th>3</th>\n",
       "      <td>12</td>\n",
       "      <td>86.0</td>\n",
       "      <td>No</td>\n",
       "    </tr>\n",
       "    <tr>\n",
       "      <th>4</th>\n",
       "      <td>13</td>\n",
       "      <td>82.0</td>\n",
       "      <td>Yes</td>\n",
       "    </tr>\n",
       "    <tr>\n",
       "      <th>...</th>\n",
       "      <td>...</td>\n",
       "      <td>...</td>\n",
       "      <td>...</td>\n",
       "    </tr>\n",
       "    <tr>\n",
       "      <th>301</th>\n",
       "      <td>177</td>\n",
       "      <td>81.0</td>\n",
       "      <td>Yes</td>\n",
       "    </tr>\n",
       "    <tr>\n",
       "      <th>302</th>\n",
       "      <td>178</td>\n",
       "      <td>73.0</td>\n",
       "      <td>No</td>\n",
       "    </tr>\n",
       "    <tr>\n",
       "      <th>303</th>\n",
       "      <td>178</td>\n",
       "      <td>74.0</td>\n",
       "      <td>No</td>\n",
       "    </tr>\n",
       "    <tr>\n",
       "      <th>304</th>\n",
       "      <td>179</td>\n",
       "      <td>74.0</td>\n",
       "      <td>Yes</td>\n",
       "    </tr>\n",
       "    <tr>\n",
       "      <th>305</th>\n",
       "      <td>179</td>\n",
       "      <td>89.0</td>\n",
       "      <td>No</td>\n",
       "    </tr>\n",
       "  </tbody>\n",
       "</table>\n",
       "<p>306 rows × 3 columns</p>\n",
       "</div>"
      ],
      "text/plain": [
       "     game_id  passing_quote winner\n",
       "0         11           72.0     No\n",
       "1         11           91.0    Yes\n",
       "2         12           82.0    Yes\n",
       "3         12           86.0     No\n",
       "4         13           82.0    Yes\n",
       "..       ...            ...    ...\n",
       "301      177           81.0    Yes\n",
       "302      178           73.0     No\n",
       "303      178           74.0     No\n",
       "304      179           74.0    Yes\n",
       "305      179           89.0     No\n",
       "\n",
       "[306 rows x 3 columns]"
      ]
     },
     "execution_count": 3,
     "metadata": {},
     "output_type": "execute_result"
    }
   ],
   "source": [
    "# Display the data in dataframe format.\n",
    "data"
   ]
  },
  {
   "cell_type": "code",
   "execution_count": null,
   "id": "319a211d",
   "metadata": {},
   "outputs": [],
   "source": []
  },
  {
   "cell_type": "code",
   "execution_count": 4,
   "id": "d18273ae",
   "metadata": {},
   "outputs": [
    {
     "data": {
      "text/html": [
       "<div>\n",
       "<style scoped>\n",
       "    .dataframe tbody tr th:only-of-type {\n",
       "        vertical-align: middle;\n",
       "    }\n",
       "\n",
       "    .dataframe tbody tr th {\n",
       "        vertical-align: top;\n",
       "    }\n",
       "\n",
       "    .dataframe thead th {\n",
       "        text-align: right;\n",
       "    }\n",
       "</style>\n",
       "<table border=\"1\" class=\"dataframe\">\n",
       "  <thead>\n",
       "    <tr style=\"text-align: right;\">\n",
       "      <th></th>\n",
       "      <th>game_id</th>\n",
       "      <th>passing_quote</th>\n",
       "      <th>winner</th>\n",
       "    </tr>\n",
       "  </thead>\n",
       "  <tbody>\n",
       "    <tr>\n",
       "      <th>0</th>\n",
       "      <td>11</td>\n",
       "      <td>72.0</td>\n",
       "      <td>No</td>\n",
       "    </tr>\n",
       "    <tr>\n",
       "      <th>1</th>\n",
       "      <td>11</td>\n",
       "      <td>91.0</td>\n",
       "      <td>Yes</td>\n",
       "    </tr>\n",
       "    <tr>\n",
       "      <th>2</th>\n",
       "      <td>12</td>\n",
       "      <td>82.0</td>\n",
       "      <td>Yes</td>\n",
       "    </tr>\n",
       "    <tr>\n",
       "      <th>3</th>\n",
       "      <td>12</td>\n",
       "      <td>86.0</td>\n",
       "      <td>No</td>\n",
       "    </tr>\n",
       "    <tr>\n",
       "      <th>4</th>\n",
       "      <td>13</td>\n",
       "      <td>82.0</td>\n",
       "      <td>Yes</td>\n",
       "    </tr>\n",
       "  </tbody>\n",
       "</table>\n",
       "</div>"
      ],
      "text/plain": [
       "   game_id  passing_quote winner\n",
       "0       11           72.0     No\n",
       "1       11           91.0    Yes\n",
       "2       12           82.0    Yes\n",
       "3       12           86.0     No\n",
       "4       13           82.0    Yes"
      ]
     },
     "execution_count": 4,
     "metadata": {},
     "output_type": "execute_result"
    }
   ],
   "source": [
    "# This displays the first 5 data points of data.\n",
    "data.head()"
   ]
  },
  {
   "cell_type": "code",
   "execution_count": 5,
   "id": "45387467",
   "metadata": {},
   "outputs": [
    {
     "data": {
      "text/html": [
       "<div>\n",
       "<style scoped>\n",
       "    .dataframe tbody tr th:only-of-type {\n",
       "        vertical-align: middle;\n",
       "    }\n",
       "\n",
       "    .dataframe tbody tr th {\n",
       "        vertical-align: top;\n",
       "    }\n",
       "\n",
       "    .dataframe thead th {\n",
       "        text-align: right;\n",
       "    }\n",
       "</style>\n",
       "<table border=\"1\" class=\"dataframe\">\n",
       "  <thead>\n",
       "    <tr style=\"text-align: right;\">\n",
       "      <th></th>\n",
       "      <th>game_id</th>\n",
       "      <th>passing_quote</th>\n",
       "      <th>winner</th>\n",
       "    </tr>\n",
       "  </thead>\n",
       "  <tbody>\n",
       "    <tr>\n",
       "      <th>301</th>\n",
       "      <td>177</td>\n",
       "      <td>81.0</td>\n",
       "      <td>Yes</td>\n",
       "    </tr>\n",
       "    <tr>\n",
       "      <th>302</th>\n",
       "      <td>178</td>\n",
       "      <td>73.0</td>\n",
       "      <td>No</td>\n",
       "    </tr>\n",
       "    <tr>\n",
       "      <th>303</th>\n",
       "      <td>178</td>\n",
       "      <td>74.0</td>\n",
       "      <td>No</td>\n",
       "    </tr>\n",
       "    <tr>\n",
       "      <th>304</th>\n",
       "      <td>179</td>\n",
       "      <td>74.0</td>\n",
       "      <td>Yes</td>\n",
       "    </tr>\n",
       "    <tr>\n",
       "      <th>305</th>\n",
       "      <td>179</td>\n",
       "      <td>89.0</td>\n",
       "      <td>No</td>\n",
       "    </tr>\n",
       "  </tbody>\n",
       "</table>\n",
       "</div>"
      ],
      "text/plain": [
       "     game_id  passing_quote winner\n",
       "301      177           81.0    Yes\n",
       "302      178           73.0     No\n",
       "303      178           74.0     No\n",
       "304      179           74.0    Yes\n",
       "305      179           89.0     No"
      ]
     },
     "execution_count": 5,
     "metadata": {},
     "output_type": "execute_result"
    }
   ],
   "source": [
    "# This displays the last 5 data points of data.\n",
    "data.tail()"
   ]
  },
  {
   "cell_type": "code",
   "execution_count": 6,
   "id": "95e074db",
   "metadata": {},
   "outputs": [],
   "source": [
    "# Here I converts the variable name of dataset.\n",
    "df = data"
   ]
  },
  {
   "cell_type": "code",
   "execution_count": 7,
   "id": "61c1ff2a",
   "metadata": {},
   "outputs": [
    {
     "data": {
      "text/html": [
       "<div>\n",
       "<style scoped>\n",
       "    .dataframe tbody tr th:only-of-type {\n",
       "        vertical-align: middle;\n",
       "    }\n",
       "\n",
       "    .dataframe tbody tr th {\n",
       "        vertical-align: top;\n",
       "    }\n",
       "\n",
       "    .dataframe thead th {\n",
       "        text-align: right;\n",
       "    }\n",
       "</style>\n",
       "<table border=\"1\" class=\"dataframe\">\n",
       "  <thead>\n",
       "    <tr style=\"text-align: right;\">\n",
       "      <th></th>\n",
       "      <th>game_id</th>\n",
       "      <th>passing_quote</th>\n",
       "      <th>winner</th>\n",
       "    </tr>\n",
       "  </thead>\n",
       "  <tbody>\n",
       "    <tr>\n",
       "      <th>0</th>\n",
       "      <td>11</td>\n",
       "      <td>72.0</td>\n",
       "      <td>No</td>\n",
       "    </tr>\n",
       "    <tr>\n",
       "      <th>1</th>\n",
       "      <td>11</td>\n",
       "      <td>91.0</td>\n",
       "      <td>Yes</td>\n",
       "    </tr>\n",
       "    <tr>\n",
       "      <th>2</th>\n",
       "      <td>12</td>\n",
       "      <td>82.0</td>\n",
       "      <td>Yes</td>\n",
       "    </tr>\n",
       "    <tr>\n",
       "      <th>3</th>\n",
       "      <td>12</td>\n",
       "      <td>86.0</td>\n",
       "      <td>No</td>\n",
       "    </tr>\n",
       "    <tr>\n",
       "      <th>4</th>\n",
       "      <td>13</td>\n",
       "      <td>82.0</td>\n",
       "      <td>Yes</td>\n",
       "    </tr>\n",
       "    <tr>\n",
       "      <th>...</th>\n",
       "      <td>...</td>\n",
       "      <td>...</td>\n",
       "      <td>...</td>\n",
       "    </tr>\n",
       "    <tr>\n",
       "      <th>301</th>\n",
       "      <td>177</td>\n",
       "      <td>81.0</td>\n",
       "      <td>Yes</td>\n",
       "    </tr>\n",
       "    <tr>\n",
       "      <th>302</th>\n",
       "      <td>178</td>\n",
       "      <td>73.0</td>\n",
       "      <td>No</td>\n",
       "    </tr>\n",
       "    <tr>\n",
       "      <th>303</th>\n",
       "      <td>178</td>\n",
       "      <td>74.0</td>\n",
       "      <td>No</td>\n",
       "    </tr>\n",
       "    <tr>\n",
       "      <th>304</th>\n",
       "      <td>179</td>\n",
       "      <td>74.0</td>\n",
       "      <td>Yes</td>\n",
       "    </tr>\n",
       "    <tr>\n",
       "      <th>305</th>\n",
       "      <td>179</td>\n",
       "      <td>89.0</td>\n",
       "      <td>No</td>\n",
       "    </tr>\n",
       "  </tbody>\n",
       "</table>\n",
       "<p>306 rows × 3 columns</p>\n",
       "</div>"
      ],
      "text/plain": [
       "     game_id  passing_quote winner\n",
       "0         11           72.0     No\n",
       "1         11           91.0    Yes\n",
       "2         12           82.0    Yes\n",
       "3         12           86.0     No\n",
       "4         13           82.0    Yes\n",
       "..       ...            ...    ...\n",
       "301      177           81.0    Yes\n",
       "302      178           73.0     No\n",
       "303      178           74.0     No\n",
       "304      179           74.0    Yes\n",
       "305      179           89.0     No\n",
       "\n",
       "[306 rows x 3 columns]"
      ]
     },
     "execution_count": 7,
     "metadata": {},
     "output_type": "execute_result"
    }
   ],
   "source": [
    "df"
   ]
  },
  {
   "cell_type": "code",
   "execution_count": 8,
   "id": "9c173e3f",
   "metadata": {},
   "outputs": [
    {
     "data": {
      "text/plain": [
       "<bound method Series.count of 0      False\n",
       "1      False\n",
       "2      False\n",
       "3      False\n",
       "4      False\n",
       "       ...  \n",
       "301    False\n",
       "302    False\n",
       "303    False\n",
       "304    False\n",
       "305    False\n",
       "Name: winner, Length: 306, dtype: bool>"
      ]
     },
     "execution_count": 8,
     "metadata": {},
     "output_type": "execute_result"
    }
   ],
   "source": [
    "df[\"winner\"].isin([\"draw\"]).count"
   ]
  },
  {
   "cell_type": "code",
   "execution_count": 9,
   "id": "1daca50b",
   "metadata": {},
   "outputs": [
    {
     "data": {
      "text/html": [
       "<div>\n",
       "<style scoped>\n",
       "    .dataframe tbody tr th:only-of-type {\n",
       "        vertical-align: middle;\n",
       "    }\n",
       "\n",
       "    .dataframe tbody tr th {\n",
       "        vertical-align: top;\n",
       "    }\n",
       "\n",
       "    .dataframe thead th {\n",
       "        text-align: right;\n",
       "    }\n",
       "</style>\n",
       "<table border=\"1\" class=\"dataframe\">\n",
       "  <thead>\n",
       "    <tr style=\"text-align: right;\">\n",
       "      <th></th>\n",
       "      <th>game_id</th>\n",
       "      <th>passing_quote</th>\n",
       "    </tr>\n",
       "  </thead>\n",
       "  <tbody>\n",
       "    <tr>\n",
       "      <th>count</th>\n",
       "      <td>306.000000</td>\n",
       "      <td>304.000000</td>\n",
       "    </tr>\n",
       "    <tr>\n",
       "      <th>mean</th>\n",
       "      <td>95.000000</td>\n",
       "      <td>79.680921</td>\n",
       "    </tr>\n",
       "    <tr>\n",
       "      <th>std</th>\n",
       "      <td>49.138146</td>\n",
       "      <td>6.960058</td>\n",
       "    </tr>\n",
       "    <tr>\n",
       "      <th>min</th>\n",
       "      <td>11.000000</td>\n",
       "      <td>53.000000</td>\n",
       "    </tr>\n",
       "    <tr>\n",
       "      <th>25%</th>\n",
       "      <td>53.000000</td>\n",
       "      <td>75.000000</td>\n",
       "    </tr>\n",
       "    <tr>\n",
       "      <th>50%</th>\n",
       "      <td>95.000000</td>\n",
       "      <td>80.000000</td>\n",
       "    </tr>\n",
       "    <tr>\n",
       "      <th>75%</th>\n",
       "      <td>137.000000</td>\n",
       "      <td>85.000000</td>\n",
       "    </tr>\n",
       "    <tr>\n",
       "      <th>max</th>\n",
       "      <td>179.000000</td>\n",
       "      <td>92.000000</td>\n",
       "    </tr>\n",
       "  </tbody>\n",
       "</table>\n",
       "</div>"
      ],
      "text/plain": [
       "          game_id  passing_quote\n",
       "count  306.000000     304.000000\n",
       "mean    95.000000      79.680921\n",
       "std     49.138146       6.960058\n",
       "min     11.000000      53.000000\n",
       "25%     53.000000      75.000000\n",
       "50%     95.000000      80.000000\n",
       "75%    137.000000      85.000000\n",
       "max    179.000000      92.000000"
      ]
     },
     "execution_count": 9,
     "metadata": {},
     "output_type": "execute_result"
    }
   ],
   "source": [
    "# Describe the data into rows and columns.\n",
    "df.describe()"
   ]
  },
  {
   "cell_type": "code",
   "execution_count": 10,
   "id": "c708370c",
   "metadata": {},
   "outputs": [
    {
     "name": "stdout",
     "output_type": "stream",
     "text": [
      "<class 'pandas.core.frame.DataFrame'>\n",
      "RangeIndex: 306 entries, 0 to 305\n",
      "Data columns (total 3 columns):\n",
      " #   Column         Non-Null Count  Dtype  \n",
      "---  ------         --------------  -----  \n",
      " 0   game_id        306 non-null    int64  \n",
      " 1   passing_quote  304 non-null    float64\n",
      " 2   winner         304 non-null    object \n",
      "dtypes: float64(1), int64(1), object(1)\n",
      "memory usage: 7.3+ KB\n"
     ]
    }
   ],
   "source": [
    "# Get summary of data.\n",
    "df.info()"
   ]
  },
  {
   "cell_type": "code",
   "execution_count": 11,
   "id": "845f02cb",
   "metadata": {},
   "outputs": [],
   "source": [
    "# Separate data into two groups based on winners & loosers.\n",
    "\n",
    "winners = df[df[\"winner\"]==\"Yes\"]\n",
    "loosers = df[df[\"winner\"]==\"No\"]\n",
    "draw = df[df[\"winner\"]==\"Draw\"]"
   ]
  },
  {
   "cell_type": "code",
   "execution_count": 12,
   "id": "2203cd95",
   "metadata": {},
   "outputs": [
    {
     "data": {
      "text/html": [
       "<div>\n",
       "<style scoped>\n",
       "    .dataframe tbody tr th:only-of-type {\n",
       "        vertical-align: middle;\n",
       "    }\n",
       "\n",
       "    .dataframe tbody tr th {\n",
       "        vertical-align: top;\n",
       "    }\n",
       "\n",
       "    .dataframe thead th {\n",
       "        text-align: right;\n",
       "    }\n",
       "</style>\n",
       "<table border=\"1\" class=\"dataframe\">\n",
       "  <thead>\n",
       "    <tr style=\"text-align: right;\">\n",
       "      <th></th>\n",
       "      <th>game_id</th>\n",
       "      <th>passing_quote</th>\n",
       "      <th>winner</th>\n",
       "    </tr>\n",
       "  </thead>\n",
       "  <tbody>\n",
       "    <tr>\n",
       "      <th>1</th>\n",
       "      <td>11</td>\n",
       "      <td>91.0</td>\n",
       "      <td>Yes</td>\n",
       "    </tr>\n",
       "    <tr>\n",
       "      <th>2</th>\n",
       "      <td>12</td>\n",
       "      <td>82.0</td>\n",
       "      <td>Yes</td>\n",
       "    </tr>\n",
       "    <tr>\n",
       "      <th>4</th>\n",
       "      <td>13</td>\n",
       "      <td>82.0</td>\n",
       "      <td>Yes</td>\n",
       "    </tr>\n",
       "    <tr>\n",
       "      <th>7</th>\n",
       "      <td>14</td>\n",
       "      <td>77.0</td>\n",
       "      <td>Yes</td>\n",
       "    </tr>\n",
       "    <tr>\n",
       "      <th>10</th>\n",
       "      <td>16</td>\n",
       "      <td>87.0</td>\n",
       "      <td>Yes</td>\n",
       "    </tr>\n",
       "    <tr>\n",
       "      <th>...</th>\n",
       "      <td>...</td>\n",
       "      <td>...</td>\n",
       "      <td>...</td>\n",
       "    </tr>\n",
       "    <tr>\n",
       "      <th>288</th>\n",
       "      <td>171</td>\n",
       "      <td>90.0</td>\n",
       "      <td>Yes</td>\n",
       "    </tr>\n",
       "    <tr>\n",
       "      <th>291</th>\n",
       "      <td>172</td>\n",
       "      <td>77.0</td>\n",
       "      <td>Yes</td>\n",
       "    </tr>\n",
       "    <tr>\n",
       "      <th>299</th>\n",
       "      <td>176</td>\n",
       "      <td>91.0</td>\n",
       "      <td>Yes</td>\n",
       "    </tr>\n",
       "    <tr>\n",
       "      <th>301</th>\n",
       "      <td>177</td>\n",
       "      <td>81.0</td>\n",
       "      <td>Yes</td>\n",
       "    </tr>\n",
       "    <tr>\n",
       "      <th>304</th>\n",
       "      <td>179</td>\n",
       "      <td>74.0</td>\n",
       "      <td>Yes</td>\n",
       "    </tr>\n",
       "  </tbody>\n",
       "</table>\n",
       "<p>114 rows × 3 columns</p>\n",
       "</div>"
      ],
      "text/plain": [
       "     game_id  passing_quote winner\n",
       "1         11           91.0    Yes\n",
       "2         12           82.0    Yes\n",
       "4         13           82.0    Yes\n",
       "7         14           77.0    Yes\n",
       "10        16           87.0    Yes\n",
       "..       ...            ...    ...\n",
       "288      171           90.0    Yes\n",
       "291      172           77.0    Yes\n",
       "299      176           91.0    Yes\n",
       "301      177           81.0    Yes\n",
       "304      179           74.0    Yes\n",
       "\n",
       "[114 rows x 3 columns]"
      ]
     },
     "execution_count": 12,
     "metadata": {},
     "output_type": "execute_result"
    }
   ],
   "source": [
    "winners"
   ]
  },
  {
   "cell_type": "code",
   "execution_count": 13,
   "id": "0b50c513",
   "metadata": {},
   "outputs": [
    {
     "data": {
      "text/plain": [
       "game_id          114\n",
       "passing_quote    114\n",
       "winner           114\n",
       "dtype: int64"
      ]
     },
     "execution_count": 13,
     "metadata": {},
     "output_type": "execute_result"
    }
   ],
   "source": [
    "# total count of winners.\n",
    "winners.count()\n",
    "\n",
    "# total numbers of winners in 114 out of 304. "
   ]
  },
  {
   "cell_type": "code",
   "execution_count": 14,
   "id": "8d4b6d8c",
   "metadata": {},
   "outputs": [
    {
     "data": {
      "text/html": [
       "<div>\n",
       "<style scoped>\n",
       "    .dataframe tbody tr th:only-of-type {\n",
       "        vertical-align: middle;\n",
       "    }\n",
       "\n",
       "    .dataframe tbody tr th {\n",
       "        vertical-align: top;\n",
       "    }\n",
       "\n",
       "    .dataframe thead th {\n",
       "        text-align: right;\n",
       "    }\n",
       "</style>\n",
       "<table border=\"1\" class=\"dataframe\">\n",
       "  <thead>\n",
       "    <tr style=\"text-align: right;\">\n",
       "      <th></th>\n",
       "      <th>game_id</th>\n",
       "      <th>passing_quote</th>\n",
       "      <th>winner</th>\n",
       "    </tr>\n",
       "  </thead>\n",
       "  <tbody>\n",
       "    <tr>\n",
       "      <th>0</th>\n",
       "      <td>11</td>\n",
       "      <td>72.0</td>\n",
       "      <td>No</td>\n",
       "    </tr>\n",
       "    <tr>\n",
       "      <th>3</th>\n",
       "      <td>12</td>\n",
       "      <td>86.0</td>\n",
       "      <td>No</td>\n",
       "    </tr>\n",
       "    <tr>\n",
       "      <th>5</th>\n",
       "      <td>13</td>\n",
       "      <td>79.0</td>\n",
       "      <td>No</td>\n",
       "    </tr>\n",
       "    <tr>\n",
       "      <th>6</th>\n",
       "      <td>14</td>\n",
       "      <td>79.0</td>\n",
       "      <td>No</td>\n",
       "    </tr>\n",
       "    <tr>\n",
       "      <th>8</th>\n",
       "      <td>15</td>\n",
       "      <td>85.0</td>\n",
       "      <td>No</td>\n",
       "    </tr>\n",
       "    <tr>\n",
       "      <th>...</th>\n",
       "      <td>...</td>\n",
       "      <td>...</td>\n",
       "      <td>...</td>\n",
       "    </tr>\n",
       "    <tr>\n",
       "      <th>298</th>\n",
       "      <td>176</td>\n",
       "      <td>76.0</td>\n",
       "      <td>No</td>\n",
       "    </tr>\n",
       "    <tr>\n",
       "      <th>300</th>\n",
       "      <td>177</td>\n",
       "      <td>78.0</td>\n",
       "      <td>No</td>\n",
       "    </tr>\n",
       "    <tr>\n",
       "      <th>302</th>\n",
       "      <td>178</td>\n",
       "      <td>73.0</td>\n",
       "      <td>No</td>\n",
       "    </tr>\n",
       "    <tr>\n",
       "      <th>303</th>\n",
       "      <td>178</td>\n",
       "      <td>74.0</td>\n",
       "      <td>No</td>\n",
       "    </tr>\n",
       "    <tr>\n",
       "      <th>305</th>\n",
       "      <td>179</td>\n",
       "      <td>89.0</td>\n",
       "      <td>No</td>\n",
       "    </tr>\n",
       "  </tbody>\n",
       "</table>\n",
       "<p>190 rows × 3 columns</p>\n",
       "</div>"
      ],
      "text/plain": [
       "     game_id  passing_quote winner\n",
       "0         11           72.0     No\n",
       "3         12           86.0     No\n",
       "5         13           79.0     No\n",
       "6         14           79.0     No\n",
       "8         15           85.0     No\n",
       "..       ...            ...    ...\n",
       "298      176           76.0     No\n",
       "300      177           78.0     No\n",
       "302      178           73.0     No\n",
       "303      178           74.0     No\n",
       "305      179           89.0     No\n",
       "\n",
       "[190 rows x 3 columns]"
      ]
     },
     "execution_count": 14,
     "metadata": {},
     "output_type": "execute_result"
    }
   ],
   "source": [
    "loosers"
   ]
  },
  {
   "cell_type": "code",
   "execution_count": 18,
   "id": "08c34b43",
   "metadata": {},
   "outputs": [
    {
     "data": {
      "text/plain": [
       "game_id          190\n",
       "passing_quote    190\n",
       "winner           190\n",
       "dtype: int64"
      ]
     },
     "execution_count": 18,
     "metadata": {},
     "output_type": "execute_result"
    }
   ],
   "source": [
    "loosers.count()\n",
    "\n",
    "# total number of loosers are 190 out of 304.\n"
   ]
  },
  {
   "cell_type": "markdown",
   "id": "77514e17",
   "metadata": {},
   "source": [
    "### There are draw matches data shown."
   ]
  },
  {
   "cell_type": "code",
   "execution_count": 19,
   "id": "170fd980",
   "metadata": {},
   "outputs": [
    {
     "data": {
      "text/html": [
       "<div>\n",
       "<style scoped>\n",
       "    .dataframe tbody tr th:only-of-type {\n",
       "        vertical-align: middle;\n",
       "    }\n",
       "\n",
       "    .dataframe tbody tr th {\n",
       "        vertical-align: top;\n",
       "    }\n",
       "\n",
       "    .dataframe thead th {\n",
       "        text-align: right;\n",
       "    }\n",
       "</style>\n",
       "<table border=\"1\" class=\"dataframe\">\n",
       "  <thead>\n",
       "    <tr style=\"text-align: right;\">\n",
       "      <th></th>\n",
       "      <th>game_id</th>\n",
       "      <th>passing_quote</th>\n",
       "      <th>winner</th>\n",
       "    </tr>\n",
       "  </thead>\n",
       "  <tbody>\n",
       "  </tbody>\n",
       "</table>\n",
       "</div>"
      ],
      "text/plain": [
       "Empty DataFrame\n",
       "Columns: [game_id, passing_quote, winner]\n",
       "Index: []"
      ]
     },
     "execution_count": 19,
     "metadata": {},
     "output_type": "execute_result"
    }
   ],
   "source": [
    "draw"
   ]
  },
  {
   "cell_type": "markdown",
   "id": "abf2302a",
   "metadata": {},
   "source": [
    "### That means total number of winners are less than total number of loosers as per giving dataset."
   ]
  },
  {
   "cell_type": "code",
   "execution_count": null,
   "id": "a3a4cdf6",
   "metadata": {},
   "outputs": [],
   "source": []
  },
  {
   "cell_type": "code",
   "execution_count": 20,
   "id": "64dec423",
   "metadata": {},
   "outputs": [],
   "source": [
    "# It combines the data of winners and loosers passeing_quote with the help of game_id.\n",
    "\n",
    "games = df.groupby(\"game_id\")[\"passing_quote\"].agg(list).reset_index()"
   ]
  },
  {
   "cell_type": "code",
   "execution_count": 21,
   "id": "f6775f3e",
   "metadata": {},
   "outputs": [
    {
     "data": {
      "text/html": [
       "<div>\n",
       "<style scoped>\n",
       "    .dataframe tbody tr th:only-of-type {\n",
       "        vertical-align: middle;\n",
       "    }\n",
       "\n",
       "    .dataframe tbody tr th {\n",
       "        vertical-align: top;\n",
       "    }\n",
       "\n",
       "    .dataframe thead th {\n",
       "        text-align: right;\n",
       "    }\n",
       "</style>\n",
       "<table border=\"1\" class=\"dataframe\">\n",
       "  <thead>\n",
       "    <tr style=\"text-align: right;\">\n",
       "      <th></th>\n",
       "      <th>game_id</th>\n",
       "      <th>passing_quote</th>\n",
       "    </tr>\n",
       "  </thead>\n",
       "  <tbody>\n",
       "    <tr>\n",
       "      <th>0</th>\n",
       "      <td>11</td>\n",
       "      <td>[72.0, 91.0]</td>\n",
       "    </tr>\n",
       "    <tr>\n",
       "      <th>1</th>\n",
       "      <td>12</td>\n",
       "      <td>[82.0, 86.0]</td>\n",
       "    </tr>\n",
       "    <tr>\n",
       "      <th>2</th>\n",
       "      <td>13</td>\n",
       "      <td>[82.0, 79.0]</td>\n",
       "    </tr>\n",
       "    <tr>\n",
       "      <th>3</th>\n",
       "      <td>14</td>\n",
       "      <td>[79.0, 77.0]</td>\n",
       "    </tr>\n",
       "    <tr>\n",
       "      <th>4</th>\n",
       "      <td>15</td>\n",
       "      <td>[85.0, 77.0]</td>\n",
       "    </tr>\n",
       "    <tr>\n",
       "      <th>...</th>\n",
       "      <td>...</td>\n",
       "      <td>...</td>\n",
       "    </tr>\n",
       "    <tr>\n",
       "      <th>148</th>\n",
       "      <td>175</td>\n",
       "      <td>[84.0, 76.0]</td>\n",
       "    </tr>\n",
       "    <tr>\n",
       "      <th>149</th>\n",
       "      <td>176</td>\n",
       "      <td>[76.0, 91.0]</td>\n",
       "    </tr>\n",
       "    <tr>\n",
       "      <th>150</th>\n",
       "      <td>177</td>\n",
       "      <td>[78.0, 81.0]</td>\n",
       "    </tr>\n",
       "    <tr>\n",
       "      <th>151</th>\n",
       "      <td>178</td>\n",
       "      <td>[73.0, 74.0]</td>\n",
       "    </tr>\n",
       "    <tr>\n",
       "      <th>152</th>\n",
       "      <td>179</td>\n",
       "      <td>[74.0, 89.0]</td>\n",
       "    </tr>\n",
       "  </tbody>\n",
       "</table>\n",
       "<p>153 rows × 2 columns</p>\n",
       "</div>"
      ],
      "text/plain": [
       "     game_id passing_quote\n",
       "0         11  [72.0, 91.0]\n",
       "1         12  [82.0, 86.0]\n",
       "2         13  [82.0, 79.0]\n",
       "3         14  [79.0, 77.0]\n",
       "4         15  [85.0, 77.0]\n",
       "..       ...           ...\n",
       "148      175  [84.0, 76.0]\n",
       "149      176  [76.0, 91.0]\n",
       "150      177  [78.0, 81.0]\n",
       "151      178  [73.0, 74.0]\n",
       "152      179  [74.0, 89.0]\n",
       "\n",
       "[153 rows x 2 columns]"
      ]
     },
     "execution_count": 21,
     "metadata": {},
     "output_type": "execute_result"
    }
   ],
   "source": [
    "games"
   ]
  },
  {
   "cell_type": "code",
   "execution_count": 22,
   "id": "ca9e207e",
   "metadata": {},
   "outputs": [],
   "source": [
    "games.columns = [\"game_id\",\"passing_quotes\"]"
   ]
  },
  {
   "cell_type": "code",
   "execution_count": 23,
   "id": "208cae16",
   "metadata": {},
   "outputs": [
    {
     "data": {
      "text/plain": [
       "Index(['game_id', 'passing_quotes'], dtype='object')"
      ]
     },
     "execution_count": 23,
     "metadata": {},
     "output_type": "execute_result"
    }
   ],
   "source": [
    "games.columns"
   ]
  },
  {
   "cell_type": "code",
   "execution_count": 24,
   "id": "6cddfb73",
   "metadata": {},
   "outputs": [
    {
     "data": {
      "text/plain": [
       "0       11\n",
       "1       11\n",
       "2       12\n",
       "3       12\n",
       "4       13\n",
       "      ... \n",
       "301    177\n",
       "302    178\n",
       "303    178\n",
       "304    179\n",
       "305    179\n",
       "Name: game_id, Length: 306, dtype: int64"
      ]
     },
     "execution_count": 24,
     "metadata": {},
     "output_type": "execute_result"
    }
   ],
   "source": [
    "df.game_id"
   ]
  },
  {
   "cell_type": "code",
   "execution_count": 25,
   "id": "71d44b75",
   "metadata": {},
   "outputs": [
    {
     "data": {
      "text/plain": [
       "0      72.0\n",
       "1      91.0\n",
       "2      82.0\n",
       "3      86.0\n",
       "4      82.0\n",
       "       ... \n",
       "301    81.0\n",
       "302    73.0\n",
       "303    74.0\n",
       "304    74.0\n",
       "305    89.0\n",
       "Name: passing_quote, Length: 306, dtype: float64"
      ]
     },
     "execution_count": 25,
     "metadata": {},
     "output_type": "execute_result"
    }
   ],
   "source": [
    "df.passing_quote"
   ]
  },
  {
   "cell_type": "code",
   "execution_count": null,
   "id": "d086d268",
   "metadata": {},
   "outputs": [],
   "source": []
  },
  {
   "cell_type": "code",
   "execution_count": 26,
   "id": "14b78588",
   "metadata": {},
   "outputs": [],
   "source": [
    "# Calculate the Difference between passing rates for each game.\n",
    "games[\"diff\"] = games[\"passing_quotes\"].apply(lambda x: abs(x[0] - x[1]) if len(x) == 2 else 0)"
   ]
  },
  {
   "cell_type": "code",
   "execution_count": 27,
   "id": "6143084a",
   "metadata": {},
   "outputs": [
    {
     "data": {
      "text/plain": [
       "0      19.0\n",
       "1       4.0\n",
       "2       3.0\n",
       "3       2.0\n",
       "4       8.0\n",
       "       ... \n",
       "148     8.0\n",
       "149    15.0\n",
       "150     3.0\n",
       "151     1.0\n",
       "152    15.0\n",
       "Name: diff, Length: 153, dtype: float64"
      ]
     },
     "execution_count": 27,
     "metadata": {},
     "output_type": "execute_result"
    }
   ],
   "source": [
    "# Calculated Difference of passing rate.\n",
    "games[\"diff\"]"
   ]
  },
  {
   "cell_type": "code",
   "execution_count": 28,
   "id": "4d814898",
   "metadata": {},
   "outputs": [
    {
     "data": {
      "text/html": [
       "<div>\n",
       "<style scoped>\n",
       "    .dataframe tbody tr th:only-of-type {\n",
       "        vertical-align: middle;\n",
       "    }\n",
       "\n",
       "    .dataframe tbody tr th {\n",
       "        vertical-align: top;\n",
       "    }\n",
       "\n",
       "    .dataframe thead th {\n",
       "        text-align: right;\n",
       "    }\n",
       "</style>\n",
       "<table border=\"1\" class=\"dataframe\">\n",
       "  <thead>\n",
       "    <tr style=\"text-align: right;\">\n",
       "      <th></th>\n",
       "      <th>game_id</th>\n",
       "      <th>passing_quotes</th>\n",
       "      <th>diff</th>\n",
       "    </tr>\n",
       "  </thead>\n",
       "  <tbody>\n",
       "    <tr>\n",
       "      <th>0</th>\n",
       "      <td>11</td>\n",
       "      <td>[72.0, 91.0]</td>\n",
       "      <td>19.0</td>\n",
       "    </tr>\n",
       "    <tr>\n",
       "      <th>1</th>\n",
       "      <td>12</td>\n",
       "      <td>[82.0, 86.0]</td>\n",
       "      <td>4.0</td>\n",
       "    </tr>\n",
       "    <tr>\n",
       "      <th>2</th>\n",
       "      <td>13</td>\n",
       "      <td>[82.0, 79.0]</td>\n",
       "      <td>3.0</td>\n",
       "    </tr>\n",
       "    <tr>\n",
       "      <th>3</th>\n",
       "      <td>14</td>\n",
       "      <td>[79.0, 77.0]</td>\n",
       "      <td>2.0</td>\n",
       "    </tr>\n",
       "    <tr>\n",
       "      <th>4</th>\n",
       "      <td>15</td>\n",
       "      <td>[85.0, 77.0]</td>\n",
       "      <td>8.0</td>\n",
       "    </tr>\n",
       "    <tr>\n",
       "      <th>...</th>\n",
       "      <td>...</td>\n",
       "      <td>...</td>\n",
       "      <td>...</td>\n",
       "    </tr>\n",
       "    <tr>\n",
       "      <th>148</th>\n",
       "      <td>175</td>\n",
       "      <td>[84.0, 76.0]</td>\n",
       "      <td>8.0</td>\n",
       "    </tr>\n",
       "    <tr>\n",
       "      <th>149</th>\n",
       "      <td>176</td>\n",
       "      <td>[76.0, 91.0]</td>\n",
       "      <td>15.0</td>\n",
       "    </tr>\n",
       "    <tr>\n",
       "      <th>150</th>\n",
       "      <td>177</td>\n",
       "      <td>[78.0, 81.0]</td>\n",
       "      <td>3.0</td>\n",
       "    </tr>\n",
       "    <tr>\n",
       "      <th>151</th>\n",
       "      <td>178</td>\n",
       "      <td>[73.0, 74.0]</td>\n",
       "      <td>1.0</td>\n",
       "    </tr>\n",
       "    <tr>\n",
       "      <th>152</th>\n",
       "      <td>179</td>\n",
       "      <td>[74.0, 89.0]</td>\n",
       "      <td>15.0</td>\n",
       "    </tr>\n",
       "  </tbody>\n",
       "</table>\n",
       "<p>153 rows × 3 columns</p>\n",
       "</div>"
      ],
      "text/plain": [
       "     game_id passing_quotes  diff\n",
       "0         11   [72.0, 91.0]  19.0\n",
       "1         12   [82.0, 86.0]   4.0\n",
       "2         13   [82.0, 79.0]   3.0\n",
       "3         14   [79.0, 77.0]   2.0\n",
       "4         15   [85.0, 77.0]   8.0\n",
       "..       ...            ...   ...\n",
       "148      175   [84.0, 76.0]   8.0\n",
       "149      176   [76.0, 91.0]  15.0\n",
       "150      177   [78.0, 81.0]   3.0\n",
       "151      178   [73.0, 74.0]   1.0\n",
       "152      179   [74.0, 89.0]  15.0\n",
       "\n",
       "[153 rows x 3 columns]"
      ]
     },
     "execution_count": 28,
     "metadata": {},
     "output_type": "execute_result"
    }
   ],
   "source": [
    "games"
   ]
  },
  {
   "cell_type": "markdown",
   "id": "8f5880c5",
   "metadata": {},
   "source": [
    "### The difference is calculated with the help of lamda function.\n",
    "\n",
    "example --- 2-1 = 1\n",
    "\n",
    "## Compare example with datapoints.\n",
    "\n",
    "#####  game_id      ----------          passing_rate\n",
    "####       11\t        --------------    [72.0, 91.0]\n",
    "\n",
    "#####                               91 - 72  =  19\n",
    "#####  So the difference of 11th game passing rate is of 19 passes."
   ]
  },
  {
   "cell_type": "code",
   "execution_count": null,
   "id": "de183529",
   "metadata": {},
   "outputs": [],
   "source": []
  },
  {
   "cell_type": "markdown",
   "id": "31ea3843",
   "metadata": {},
   "source": [
    "## So now extract passing rate for winners and loosers."
   ]
  },
  {
   "cell_type": "code",
   "execution_count": 29,
   "id": "0b329f8a",
   "metadata": {},
   "outputs": [],
   "source": [
    "win_rate = winners[\"passing_quote\"]\n",
    "loss_rate = loosers[\"passing_quote\"]"
   ]
  },
  {
   "cell_type": "code",
   "execution_count": 30,
   "id": "792c380d",
   "metadata": {},
   "outputs": [
    {
     "data": {
      "text/plain": [
       "1      91.0\n",
       "2      82.0\n",
       "4      82.0\n",
       "7      77.0\n",
       "10     87.0\n",
       "       ... \n",
       "288    90.0\n",
       "291    77.0\n",
       "299    91.0\n",
       "301    81.0\n",
       "304    74.0\n",
       "Name: passing_quote, Length: 114, dtype: float64"
      ]
     },
     "execution_count": 30,
     "metadata": {},
     "output_type": "execute_result"
    }
   ],
   "source": [
    "win_rate"
   ]
  },
  {
   "cell_type": "code",
   "execution_count": 31,
   "id": "e78a3015",
   "metadata": {},
   "outputs": [
    {
     "data": {
      "text/plain": [
       "81.07894736842105"
      ]
     },
     "execution_count": 31,
     "metadata": {},
     "output_type": "execute_result"
    }
   ],
   "source": [
    "win_rate.mean()"
   ]
  },
  {
   "cell_type": "code",
   "execution_count": 32,
   "id": "a75e14c5",
   "metadata": {},
   "outputs": [
    {
     "data": {
      "text/plain": [
       "83.0"
      ]
     },
     "execution_count": 32,
     "metadata": {},
     "output_type": "execute_result"
    }
   ],
   "source": [
    "win_rate.median()"
   ]
  },
  {
   "cell_type": "code",
   "execution_count": 33,
   "id": "4d7e2660",
   "metadata": {},
   "outputs": [
    {
     "data": {
      "text/plain": [
       "8.064062895748393"
      ]
     },
     "execution_count": 33,
     "metadata": {},
     "output_type": "execute_result"
    }
   ],
   "source": [
    "win_rate.std()"
   ]
  },
  {
   "cell_type": "code",
   "execution_count": 34,
   "id": "b6648cf0",
   "metadata": {},
   "outputs": [],
   "source": [
    "wmin = win_rate.min()"
   ]
  },
  {
   "cell_type": "code",
   "execution_count": 35,
   "id": "dee98eb4",
   "metadata": {},
   "outputs": [],
   "source": [
    "wmax = win_rate.max()"
   ]
  },
  {
   "cell_type": "code",
   "execution_count": 36,
   "id": "48361d54",
   "metadata": {},
   "outputs": [],
   "source": [
    "winrange_ = wmax-wmin"
   ]
  },
  {
   "cell_type": "code",
   "execution_count": 37,
   "id": "f2afb3ce",
   "metadata": {},
   "outputs": [
    {
     "data": {
      "text/plain": [
       "39.0"
      ]
     },
     "execution_count": 37,
     "metadata": {},
     "output_type": "execute_result"
    }
   ],
   "source": [
    "winrange_"
   ]
  },
  {
   "cell_type": "code",
   "execution_count": 38,
   "id": "903d41f4",
   "metadata": {},
   "outputs": [
    {
     "data": {
      "text/plain": [
       "114"
      ]
     },
     "execution_count": 38,
     "metadata": {},
     "output_type": "execute_result"
    }
   ],
   "source": [
    "win_rate.count()"
   ]
  },
  {
   "cell_type": "code",
   "execution_count": 39,
   "id": "f90127ca",
   "metadata": {},
   "outputs": [
    {
     "data": {
      "text/plain": [
       "190"
      ]
     },
     "execution_count": 39,
     "metadata": {},
     "output_type": "execute_result"
    }
   ],
   "source": [
    "loss_rate.count()"
   ]
  },
  {
   "cell_type": "code",
   "execution_count": 40,
   "id": "5cc48c6c",
   "metadata": {},
   "outputs": [
    {
     "data": {
      "text/plain": [
       "78.84210526315789"
      ]
     },
     "execution_count": 40,
     "metadata": {},
     "output_type": "execute_result"
    }
   ],
   "source": [
    "loss_rate.mean()"
   ]
  },
  {
   "cell_type": "code",
   "execution_count": 41,
   "id": "d3a7ba31",
   "metadata": {},
   "outputs": [
    {
     "data": {
      "text/plain": [
       "79.0"
      ]
     },
     "execution_count": 41,
     "metadata": {},
     "output_type": "execute_result"
    }
   ],
   "source": [
    "loss_rate.median()"
   ]
  },
  {
   "cell_type": "code",
   "execution_count": 42,
   "id": "afc558c9",
   "metadata": {},
   "outputs": [
    {
     "data": {
      "text/plain": [
       "6.074172557969793"
      ]
     },
     "execution_count": 42,
     "metadata": {},
     "output_type": "execute_result"
    }
   ],
   "source": [
    "loss_rate.std()"
   ]
  },
  {
   "cell_type": "code",
   "execution_count": 43,
   "id": "b3a4f7a4",
   "metadata": {},
   "outputs": [],
   "source": [
    "lmin = loss_rate.min()"
   ]
  },
  {
   "cell_type": "code",
   "execution_count": 44,
   "id": "b4ee01e5",
   "metadata": {},
   "outputs": [],
   "source": [
    "lmax = loss_rate.max()"
   ]
  },
  {
   "cell_type": "code",
   "execution_count": 45,
   "id": "d13a247b",
   "metadata": {},
   "outputs": [],
   "source": [
    "lossrange_ = lmax - lmin"
   ]
  },
  {
   "cell_type": "code",
   "execution_count": 46,
   "id": "a4941da8",
   "metadata": {},
   "outputs": [
    {
     "data": {
      "text/plain": [
       "31.0"
      ]
     },
     "execution_count": 46,
     "metadata": {},
     "output_type": "execute_result"
    }
   ],
   "source": [
    "lossrange_"
   ]
  },
  {
   "cell_type": "markdown",
   "id": "233074ab",
   "metadata": {},
   "source": [
    "# Descriptive Statistics "
   ]
  },
  {
   "cell_type": "code",
   "execution_count": 47,
   "id": "f5157f39",
   "metadata": {},
   "outputs": [],
   "source": [
    "win_stats = win_rate.describe()\n",
    "loss_stats = loss_rate.describe()\n",
    "diff_stats = games[\"diff\"].describe()"
   ]
  },
  {
   "cell_type": "markdown",
   "id": "f17d085c",
   "metadata": {},
   "source": [
    "## 1. Win Stats"
   ]
  },
  {
   "cell_type": "code",
   "execution_count": 48,
   "id": "710e0e03",
   "metadata": {},
   "outputs": [
    {
     "data": {
      "text/plain": [
       "count    114.000000\n",
       "mean      81.078947\n",
       "std        8.064063\n",
       "min       53.000000\n",
       "25%       76.250000\n",
       "50%       83.000000\n",
       "75%       87.000000\n",
       "max       92.000000\n",
       "Name: passing_quote, dtype: float64"
      ]
     },
     "execution_count": 48,
     "metadata": {},
     "output_type": "execute_result"
    }
   ],
   "source": [
    "win_stats"
   ]
  },
  {
   "cell_type": "markdown",
   "id": "d1a61e97",
   "metadata": {},
   "source": [
    "## 2. Loss Stats"
   ]
  },
  {
   "cell_type": "code",
   "execution_count": 49,
   "id": "05a98b8b",
   "metadata": {},
   "outputs": [
    {
     "data": {
      "text/plain": [
       "count    190.000000\n",
       "mean      78.842105\n",
       "std        6.074173\n",
       "min       59.000000\n",
       "25%       75.000000\n",
       "50%       79.000000\n",
       "75%       83.000000\n",
       "max       90.000000\n",
       "Name: passing_quote, dtype: float64"
      ]
     },
     "execution_count": 49,
     "metadata": {},
     "output_type": "execute_result"
    }
   ],
   "source": [
    "loss_stats"
   ]
  },
  {
   "cell_type": "markdown",
   "id": "b7771dd7",
   "metadata": {},
   "source": [
    "## 3. Stats after Difference "
   ]
  },
  {
   "cell_type": "code",
   "execution_count": 50,
   "id": "e6d5775e",
   "metadata": {},
   "outputs": [
    {
     "data": {
      "text/plain": [
       "count    152.000000\n",
       "mean       8.046053\n",
       "std        5.796024\n",
       "min        0.000000\n",
       "25%        3.000000\n",
       "50%        7.000000\n",
       "75%       11.000000\n",
       "max       29.000000\n",
       "Name: diff, dtype: float64"
      ]
     },
     "execution_count": 50,
     "metadata": {},
     "output_type": "execute_result"
    }
   ],
   "source": [
    "diff_stats"
   ]
  },
  {
   "cell_type": "code",
   "execution_count": null,
   "id": "3cab0d57",
   "metadata": {},
   "outputs": [],
   "source": []
  },
  {
   "cell_type": "markdown",
   "id": "c5a9cac5",
   "metadata": {},
   "source": [
    "# Visualization"
   ]
  },
  {
   "cell_type": "markdown",
   "id": "5c4103a9",
   "metadata": {},
   "source": [
    "### Plot passing rates for Winners and Loosers.\n",
    "\n"
   ]
  },
  {
   "cell_type": "code",
   "execution_count": 60,
   "id": "689ce9ae",
   "metadata": {},
   "outputs": [
    {
     "data": {
      "text/plain": [
       "Text(0, 0.5, 'Frequency')"
      ]
     },
     "execution_count": 60,
     "metadata": {},
     "output_type": "execute_result"
    },
    {
     "data": {
      "image/png": "[encoded data removed]",
      "text/plain": [
       "<Figure size 1400x600 with 1 Axes>"
      ]
     },
     "metadata": {},
     "output_type": "display_data"
    }
   ],
   "source": [
    "plt.figure(figsize=(14, 6))\n",
    "plt.subplot(1, 2, 1)\n",
    "\n",
    "sns.histplot(win_rate, kde=True, color='orange', label='Winners')\n",
    "sns.histplot(loss_rate, kde=True, color='purple', label='Losers')\n",
    "\n",
    "plt.legend()\n",
    "\n",
    "plt.title('Passing Rates Distribution Analysis Graph')\n",
    "\n",
    "plt.xlabel('Passing Rate (%)')\n",
    "plt.ylabel('Frequency')"
   ]
  },
  {
   "cell_type": "code",
   "execution_count": 52,
   "id": "bc8f2c2d",
   "metadata": {},
   "outputs": [
    {
     "data": {
      "text/plain": [
       "Text(0, 0.5, 'Frequency')"
      ]
     },
     "execution_count": 52,
     "metadata": {},
     "output_type": "execute_result"
    },
    {
     "data": {
      "image/png": "[encoded data removed]",
      "text/plain": [
       "<Figure size 1400x600 with 1 Axes>"
      ]
     },
     "metadata": {},
     "output_type": "display_data"
    }
   ],
   "source": [
    "plt.figure(figsize=(14, 6))\n",
    "plt.subplot(1, 2, 1)\n",
    "\n",
    "sns.histplot(win_rate, kde=True, color='orange', label='Winners')\n",
    "\n",
    "plt.legend()\n",
    "\n",
    "plt.title('Passing Rates Distribution Analysis Graph')\n",
    "\n",
    "plt.xlabel('Passing Rate (%)')\n",
    "plt.ylabel('Frequency')"
   ]
  },
  {
   "cell_type": "code",
   "execution_count": 53,
   "id": "091bca9a",
   "metadata": {},
   "outputs": [
    {
     "data": {
      "text/plain": [
       "Text(0, 0.5, 'Frequency')"
      ]
     },
     "execution_count": 53,
     "metadata": {},
     "output_type": "execute_result"
    },
    {
     "data": {
      "image/png": "[encoded data removed]",
      "text/plain": [
       "<Figure size 1400x600 with 1 Axes>"
      ]
     },
     "metadata": {},
     "output_type": "display_data"
    }
   ],
   "source": [
    "plt.figure(figsize=(14, 6))\n",
    "plt.subplot(1, 2, 1)\n",
    "\n",
    "sns.histplot(loss_rate, kde=True, color='purple', label='Losers')\n",
    "\n",
    "plt.legend()\n",
    "\n",
    "plt.title('Loose Rates Distribution Analysis Graph')\n",
    "\n",
    "plt.xlabel('loose Rate (%)')\n",
    "plt.ylabel('Frequency')"
   ]
  },
  {
   "cell_type": "markdown",
   "id": "0758a611",
   "metadata": {},
   "source": [
    "## Boxplot Distribution to show the outliers between the data points."
   ]
  },
  {
   "cell_type": "code",
   "execution_count": 54,
   "id": "0fb09fb7",
   "metadata": {},
   "outputs": [
    {
     "data": {
      "image/png": "[encoded data removed]",
      "text/plain": [
       "<Figure size 640x480 with 1 Axes>"
      ]
     },
     "metadata": {},
     "output_type": "display_data"
    }
   ],
   "source": [
    "plt.subplot(1, 2, 2)\n",
    "sns.boxplot(data=[win_rate, loss_rate], palette=['pink', 'black'])\n",
    "plt.xticks([0, 1], ['Winners', 'Losers'])\n",
    "plt.title('Boxplot of Passing Rates')\n",
    "plt.ylabel('Passing Rate (%)')\n",
    "\n",
    "plt.tight_layout()\n",
    "plt.show()"
   ]
  },
  {
   "cell_type": "code",
   "execution_count": null,
   "id": "d154c562",
   "metadata": {},
   "outputs": [],
   "source": []
  },
  {
   "cell_type": "markdown",
   "id": "c4ee2c4b",
   "metadata": {},
   "source": [
    "# Hypothesis Testing"
   ]
  },
  {
   "cell_type": "code",
   "execution_count": 55,
   "id": "c1f0debe",
   "metadata": {},
   "outputs": [
    {
     "name": "stdout",
     "output_type": "stream",
     "text": [
      "t-statistic for passing rates: 2.741802595638678 \n",
      " p-value: 0.0032373825441299096\n"
     ]
    }
   ],
   "source": [
    "# Two-sample t-test for passing rates between winners and losers\n",
    "t_stat_rate, p_val_rate = ttest_ind(win_rate, loss_rate, alternative='greater')\n",
    "print(f\"t-statistic for passing rates: {t_stat_rate} \\n p-value: {p_val_rate}\")\n",
    "\n"
   ]
  },
  {
   "cell_type": "markdown",
   "id": "8f5916c6",
   "metadata": {},
   "source": [
    "## What is T - Statistics ?\n",
    "\n",
    "### In statistics, the t-statistic is the ratio of the difference in a number's estimated value from its assumed value to its standard error.\n",
    "\n",
    "##\n",
    "\n",
    "## What is p value in statistics ?\n",
    "\n",
    "### In statistics, a p-value is defined as a number that indicates how likely you are to obtain a value that is at least equal to or more than the actual observation if the null hypothesis is correct."
   ]
  },
  {
   "cell_type": "code",
   "execution_count": 56,
   "id": "2b2cd7fb",
   "metadata": {},
   "outputs": [],
   "source": [
    "# Prepare Data for T-tests.\n",
    "\n",
    "draws = games[games['diff'] == 0]\n",
    "non_draws = games[games['diff'] != 0]"
   ]
  },
  {
   "cell_type": "markdown",
   "id": "2f921962",
   "metadata": {},
   "source": [
    "### It show the draw passing rate"
   ]
  },
  {
   "cell_type": "code",
   "execution_count": 57,
   "id": "709d0033",
   "metadata": {},
   "outputs": [
    {
     "data": {
      "text/html": [
       "<div>\n",
       "<style scoped>\n",
       "    .dataframe tbody tr th:only-of-type {\n",
       "        vertical-align: middle;\n",
       "    }\n",
       "\n",
       "    .dataframe tbody tr th {\n",
       "        vertical-align: top;\n",
       "    }\n",
       "\n",
       "    .dataframe thead th {\n",
       "        text-align: right;\n",
       "    }\n",
       "</style>\n",
       "<table border=\"1\" class=\"dataframe\">\n",
       "  <thead>\n",
       "    <tr style=\"text-align: right;\">\n",
       "      <th></th>\n",
       "      <th>game_id</th>\n",
       "      <th>passing_quotes</th>\n",
       "      <th>diff</th>\n",
       "    </tr>\n",
       "  </thead>\n",
       "  <tbody>\n",
       "    <tr>\n",
       "      <th>33</th>\n",
       "      <td>47</td>\n",
       "      <td>[69.0, 69.0]</td>\n",
       "      <td>0.0</td>\n",
       "    </tr>\n",
       "    <tr>\n",
       "      <th>74</th>\n",
       "      <td>93</td>\n",
       "      <td>[85.0, 85.0]</td>\n",
       "      <td>0.0</td>\n",
       "    </tr>\n",
       "  </tbody>\n",
       "</table>\n",
       "</div>"
      ],
      "text/plain": [
       "    game_id passing_quotes  diff\n",
       "33       47   [69.0, 69.0]   0.0\n",
       "74       93   [85.0, 85.0]   0.0"
      ]
     },
     "execution_count": 57,
     "metadata": {},
     "output_type": "execute_result"
    }
   ],
   "source": [
    "draws"
   ]
  },
  {
   "cell_type": "code",
   "execution_count": 58,
   "id": "358a27c3",
   "metadata": {},
   "outputs": [
    {
     "data": {
      "text/html": [
       "<div>\n",
       "<style scoped>\n",
       "    .dataframe tbody tr th:only-of-type {\n",
       "        vertical-align: middle;\n",
       "    }\n",
       "\n",
       "    .dataframe tbody tr th {\n",
       "        vertical-align: top;\n",
       "    }\n",
       "\n",
       "    .dataframe thead th {\n",
       "        text-align: right;\n",
       "    }\n",
       "</style>\n",
       "<table border=\"1\" class=\"dataframe\">\n",
       "  <thead>\n",
       "    <tr style=\"text-align: right;\">\n",
       "      <th></th>\n",
       "      <th>game_id</th>\n",
       "      <th>passing_quotes</th>\n",
       "      <th>diff</th>\n",
       "    </tr>\n",
       "  </thead>\n",
       "  <tbody>\n",
       "    <tr>\n",
       "      <th>0</th>\n",
       "      <td>11</td>\n",
       "      <td>[72.0, 91.0]</td>\n",
       "      <td>19.0</td>\n",
       "    </tr>\n",
       "    <tr>\n",
       "      <th>1</th>\n",
       "      <td>12</td>\n",
       "      <td>[82.0, 86.0]</td>\n",
       "      <td>4.0</td>\n",
       "    </tr>\n",
       "    <tr>\n",
       "      <th>2</th>\n",
       "      <td>13</td>\n",
       "      <td>[82.0, 79.0]</td>\n",
       "      <td>3.0</td>\n",
       "    </tr>\n",
       "    <tr>\n",
       "      <th>3</th>\n",
       "      <td>14</td>\n",
       "      <td>[79.0, 77.0]</td>\n",
       "      <td>2.0</td>\n",
       "    </tr>\n",
       "    <tr>\n",
       "      <th>4</th>\n",
       "      <td>15</td>\n",
       "      <td>[85.0, 77.0]</td>\n",
       "      <td>8.0</td>\n",
       "    </tr>\n",
       "    <tr>\n",
       "      <th>...</th>\n",
       "      <td>...</td>\n",
       "      <td>...</td>\n",
       "      <td>...</td>\n",
       "    </tr>\n",
       "    <tr>\n",
       "      <th>148</th>\n",
       "      <td>175</td>\n",
       "      <td>[84.0, 76.0]</td>\n",
       "      <td>8.0</td>\n",
       "    </tr>\n",
       "    <tr>\n",
       "      <th>149</th>\n",
       "      <td>176</td>\n",
       "      <td>[76.0, 91.0]</td>\n",
       "      <td>15.0</td>\n",
       "    </tr>\n",
       "    <tr>\n",
       "      <th>150</th>\n",
       "      <td>177</td>\n",
       "      <td>[78.0, 81.0]</td>\n",
       "      <td>3.0</td>\n",
       "    </tr>\n",
       "    <tr>\n",
       "      <th>151</th>\n",
       "      <td>178</td>\n",
       "      <td>[73.0, 74.0]</td>\n",
       "      <td>1.0</td>\n",
       "    </tr>\n",
       "    <tr>\n",
       "      <th>152</th>\n",
       "      <td>179</td>\n",
       "      <td>[74.0, 89.0]</td>\n",
       "      <td>15.0</td>\n",
       "    </tr>\n",
       "  </tbody>\n",
       "</table>\n",
       "<p>151 rows × 3 columns</p>\n",
       "</div>"
      ],
      "text/plain": [
       "     game_id passing_quotes  diff\n",
       "0         11   [72.0, 91.0]  19.0\n",
       "1         12   [82.0, 86.0]   4.0\n",
       "2         13   [82.0, 79.0]   3.0\n",
       "3         14   [79.0, 77.0]   2.0\n",
       "4         15   [85.0, 77.0]   8.0\n",
       "..       ...            ...   ...\n",
       "148      175   [84.0, 76.0]   8.0\n",
       "149      176   [76.0, 91.0]  15.0\n",
       "150      177   [78.0, 81.0]   3.0\n",
       "151      178   [73.0, 74.0]   1.0\n",
       "152      179   [74.0, 89.0]  15.0\n",
       "\n",
       "[151 rows x 3 columns]"
      ]
     },
     "execution_count": 58,
     "metadata": {},
     "output_type": "execute_result"
    }
   ],
   "source": [
    "non_draws"
   ]
  },
  {
   "cell_type": "markdown",
   "id": "d8449020",
   "metadata": {},
   "source": [
    "## Lets check the passing rate difference with retriving the T-test and P-Value."
   ]
  },
  {
   "cell_type": "code",
   "execution_count": 59,
   "id": "78a1b5fc",
   "metadata": {},
   "outputs": [
    {
     "name": "stdout",
     "output_type": "stream",
     "text": [
      "t-statistic for differences in passing rates: nan, \n",
      "p-value: nan\n"
     ]
    }
   ],
   "source": [
    "# Two-sample t-test for difference in passing rates between games with winners and draws\n",
    "t_stat_diff, p_val_diff = ttest_ind(non_draws['diff'], draws['diff'], alternative='two-sided')\n",
    "print(f\"t-statistic for differences in passing rates: {t_stat_diff}, \\np-value: {p_val_diff}\")"
   ]
  },
  {
   "cell_type": "code",
   "execution_count": null,
   "id": "36ae1004",
   "metadata": {},
   "outputs": [],
   "source": []
  }
 ],
 "metadata": {
  "kernelspec": {
   "display_name": "Python 3 (ipykernel)",
   "language": "python",
   "name": "python3"
  },
  "language_info": {
   "codemirror_mode": {
    "name": "ipython",
    "version": 3
   },
   "file_extension": ".py",
   "mimetype": "text/x-python",
   "name": "python",
   "nbconvert_exporter": "python",
   "pygments_lexer": "ipython3",
   "version": "3.11.5"
  }
 },
 "nbformat": 4,
 "nbformat_minor": 5
}
